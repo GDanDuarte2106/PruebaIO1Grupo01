{
  "nbformat": 4,
  "nbformat_minor": 0,
  "metadata": {
    "colab": {
      "provenance": [],
      "authorship_tag": "ABX9TyNZBUB7A6b8ujo4fKFWi+85",
      "include_colab_link": true
    },
    "kernelspec": {
      "name": "python3",
      "display_name": "Python 3"
    },
    "language_info": {
      "name": "python"
    }
  },
  "cells": [
    {
      "cell_type": "markdown",
      "metadata": {
        "id": "view-in-github",
        "colab_type": "text"
      },
      "source": [
        "<a href=\"https://colab.research.google.com/github/GDanDuarte2106/PruebaIO1Grupo01/blob/main/GUALDRONd_Prueba.ipynb\" target=\"_parent\"><img src=\"https://colab.research.google.com/assets/colab-badge.svg\" alt=\"Open In Colab\"/></a>"
      ]
    },
    {
      "cell_type": "markdown",
      "source": [
        "# Mi primera vez\n",
        "\n",
        "## Subtitulo \n",
        "\n"
      ],
      "metadata": {
        "id": "bagorgrQepPS"
      }
    },
    {
      "cell_type": "code",
      "execution_count": 5,
      "metadata": {
        "colab": {
          "base_uri": "https://localhost:8080/"
        },
        "id": "gMRa8NDEcuAG",
        "outputId": "cb65140e-ed9a-4871-f554-0c41177d23be"
      },
      "outputs": [
        {
          "output_type": "stream",
          "name": "stdout",
          "text": [
            "Buenos días  Mundo :)\n"
          ]
        }
      ],
      "source": [
        "print(\"Buenos días  Mundo :)\")"
      ]
    },
    {
      "cell_type": "markdown",
      "source": [
        "# Segundo Ejercicio"
      ],
      "metadata": {
        "id": "f940SmKxfWRh"
      }
    },
    {
      "cell_type": "code",
      "source": [
        "print(\"Buenos días , Daniela\")"
      ],
      "metadata": {
        "colab": {
          "base_uri": "https://localhost:8080/"
        },
        "id": "CqQaPvnYfOux",
        "outputId": "4f082145-1a07-4016-ae7e-ddddf5d7b4c0"
      },
      "execution_count": 4,
      "outputs": [
        {
          "output_type": "stream",
          "name": "stdout",
          "text": [
            "Buenos días , Daniela\n"
          ]
        }
      ]
    }
  ]
}